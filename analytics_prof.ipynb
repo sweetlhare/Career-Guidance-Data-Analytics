{
 "cells": [
  {
   "cell_type": "markdown",
   "id": "bb3349cc-9d63-49ad-980d-c6d404c9c72a",
   "metadata": {},
   "source": [
    "# Профориентация \"Аналитик данных\""
   ]
  },
  {
   "cell_type": "markdown",
   "id": "fad1d03d-c7c1-4cbc-9440-cf94f48e6cf7",
   "metadata": {
    "tags": []
   },
   "source": [
    "## Установка зависимостей\n",
    "\n",
    "Python обладает встроенными функциями, однако, для работы с наборами данных требуются дополнительные функции, которые можно найти в сторонних модулях, которые мы и установим."
   ]
  },
  {
   "cell_type": "code",
   "execution_count": 1,
   "id": "42e02e2a-9725-4dc1-9481-be7e99e79385",
   "metadata": {
    "tags": []
   },
   "outputs": [
    {
     "name": "stdout",
     "output_type": "stream",
     "text": [
      "\u001b[33mWARNING: The directory '/Users/hare/Library/Caches/pip' or its parent directory is not owned or is not writable by the current user. The cache has been disabled. Check the permissions and owner of that directory. If executing pip with sudo, you should use sudo's -H flag.\u001b[0m\n",
      "Requirement already satisfied: pandasql in /Users/hare/opt/anaconda3/envs/champ/lib/python3.9/site-packages (0.7.3)\n",
      "Requirement already satisfied: sqlalchemy in /Users/hare/opt/anaconda3/envs/champ/lib/python3.9/site-packages (from pandasql) (1.4.23)\n",
      "Requirement already satisfied: numpy in /Users/hare/opt/anaconda3/envs/champ/lib/python3.9/site-packages (from pandasql) (1.19.5)\n",
      "Requirement already satisfied: pandas in /Users/hare/opt/anaconda3/envs/champ/lib/python3.9/site-packages (from pandasql) (1.3.0)\n",
      "Requirement already satisfied: python-dateutil>=2.7.3 in /Users/hare/opt/anaconda3/envs/champ/lib/python3.9/site-packages (from pandas->pandasql) (2.8.1)\n",
      "Requirement already satisfied: pytz>=2017.3 in /Users/hare/opt/anaconda3/envs/champ/lib/python3.9/site-packages (from pandas->pandasql) (2019.3)\n",
      "Requirement already satisfied: six>=1.5 in /Users/hare/opt/anaconda3/envs/champ/lib/python3.9/site-packages (from python-dateutil>=2.7.3->pandas->pandasql) (1.15.0)\n",
      "Requirement already satisfied: greenlet!=0.4.17 in /Users/hare/opt/anaconda3/envs/champ/lib/python3.9/site-packages (from sqlalchemy->pandasql) (1.1.1)\n",
      "\u001b[33mWARNING: Running pip as the 'root' user can result in broken permissions and conflicting behaviour with the system package manager. It is recommended to use a virtual environment instead: https://pip.pypa.io/warnings/venv\u001b[0m\n",
      "\u001b[33mWARNING: The directory '/Users/hare/Library/Caches/pip' or its parent directory is not owned or is not writable by the current user. The cache has been disabled. Check the permissions and owner of that directory. If executing pip with sudo, you should use sudo's -H flag.\u001b[0m\n",
      "Requirement already satisfied: pandas in /Users/hare/opt/anaconda3/envs/champ/lib/python3.9/site-packages (1.3.0)\n",
      "Requirement already satisfied: numpy>=1.17.3 in /Users/hare/opt/anaconda3/envs/champ/lib/python3.9/site-packages (from pandas) (1.19.5)\n",
      "Requirement already satisfied: python-dateutil>=2.7.3 in /Users/hare/opt/anaconda3/envs/champ/lib/python3.9/site-packages (from pandas) (2.8.1)\n",
      "Requirement already satisfied: pytz>=2017.3 in /Users/hare/opt/anaconda3/envs/champ/lib/python3.9/site-packages (from pandas) (2019.3)\n",
      "Requirement already satisfied: six>=1.5 in /Users/hare/opt/anaconda3/envs/champ/lib/python3.9/site-packages (from python-dateutil>=2.7.3->pandas) (1.15.0)\n",
      "\u001b[33mWARNING: Running pip as the 'root' user can result in broken permissions and conflicting behaviour with the system package manager. It is recommended to use a virtual environment instead: https://pip.pypa.io/warnings/venv\u001b[0m\n"
     ]
    }
   ],
   "source": [
    "!pip install pandasql\n",
    "!pip install pandas"
   ]
  },
  {
   "cell_type": "markdown",
   "id": "c229aa0b-9614-4f94-8488-f8e3d52f2288",
   "metadata": {},
   "source": [
    "## Импортируем установленные модули"
   ]
  },
  {
   "cell_type": "code",
   "execution_count": 2,
   "id": "6efe566f-c8aa-4bba-91ef-9eceff4cdfb4",
   "metadata": {},
   "outputs": [],
   "source": [
    "import pandas as pd\n",
    "import pandasql as ps"
   ]
  },
  {
   "cell_type": "markdown",
   "id": "3b0dc90c-7b9d-4a51-a8f8-e7e424b8230f",
   "metadata": {},
   "source": [
    "## Загрузка данных в среду разработки\n",
    "\n",
    "Данные хранятся в виде csv-файла (таблицы). Такую таблицу можно с легкостью открыть при помощи того же Excel. Но мы загрузим ее при помощи специальной функции из модуля pandas."
   ]
  },
  {
   "cell_type": "code",
   "execution_count": 3,
   "id": "bddf6bb2-64d8-410b-b2d3-0cba6a1b795e",
   "metadata": {},
   "outputs": [],
   "source": [
    "data = pd.read_csv('movielens.csv')"
   ]
  },
  {
   "cell_type": "markdown",
   "id": "31d583ea-1d8e-4683-b583-f7af1d19a427",
   "metadata": {},
   "source": [
    "### Посмотрим на данные"
   ]
  },
  {
   "cell_type": "markdown",
   "id": "10fded40-de62-4892-9077-ba068c307e83",
   "metadata": {},
   "source": [
    "При помощи модуля pandas"
   ]
  },
  {
   "cell_type": "code",
   "execution_count": 4,
   "id": "7af81c8d-d9d4-4616-ab18-a56564040993",
   "metadata": {},
   "outputs": [
    {
     "data": {
      "text/html": [
       "<div>\n",
       "<style scoped>\n",
       "    .dataframe tbody tr th:only-of-type {\n",
       "        vertical-align: middle;\n",
       "    }\n",
       "\n",
       "    .dataframe tbody tr th {\n",
       "        vertical-align: top;\n",
       "    }\n",
       "\n",
       "    .dataframe thead th {\n",
       "        text-align: right;\n",
       "    }\n",
       "</style>\n",
       "<table border=\"1\" class=\"dataframe\">\n",
       "  <thead>\n",
       "    <tr style=\"text-align: right;\">\n",
       "      <th></th>\n",
       "      <th>userid</th>\n",
       "      <th>movieid</th>\n",
       "      <th>rating</th>\n",
       "      <th>movienm</th>\n",
       "      <th>genreid</th>\n",
       "    </tr>\n",
       "  </thead>\n",
       "  <tbody>\n",
       "    <tr>\n",
       "      <th>0</th>\n",
       "      <td>1</td>\n",
       "      <td>1193</td>\n",
       "      <td>5</td>\n",
       "      <td>One Flew Over the Cuckoo's Nest (1975)</td>\n",
       "      <td>Drama</td>\n",
       "    </tr>\n",
       "    <tr>\n",
       "      <th>1</th>\n",
       "      <td>1</td>\n",
       "      <td>661</td>\n",
       "      <td>3</td>\n",
       "      <td>James and the Giant Peach (1996)</td>\n",
       "      <td>Animation, Childrens, Musical</td>\n",
       "    </tr>\n",
       "    <tr>\n",
       "      <th>2</th>\n",
       "      <td>1</td>\n",
       "      <td>914</td>\n",
       "      <td>3</td>\n",
       "      <td>My Fair Lady (1964)</td>\n",
       "      <td>Musical, Romance</td>\n",
       "    </tr>\n",
       "    <tr>\n",
       "      <th>3</th>\n",
       "      <td>1</td>\n",
       "      <td>3408</td>\n",
       "      <td>4</td>\n",
       "      <td>Erin Brockovich (2000)</td>\n",
       "      <td>Drama</td>\n",
       "    </tr>\n",
       "    <tr>\n",
       "      <th>4</th>\n",
       "      <td>1</td>\n",
       "      <td>2355</td>\n",
       "      <td>5</td>\n",
       "      <td>Bug's Life, A (1998)</td>\n",
       "      <td>Animation, Childrens, Comedy</td>\n",
       "    </tr>\n",
       "    <tr>\n",
       "      <th>...</th>\n",
       "      <td>...</td>\n",
       "      <td>...</td>\n",
       "      <td>...</td>\n",
       "      <td>...</td>\n",
       "      <td>...</td>\n",
       "    </tr>\n",
       "    <tr>\n",
       "      <th>90491</th>\n",
       "      <td>600</td>\n",
       "      <td>2716</td>\n",
       "      <td>5</td>\n",
       "      <td>Ghostbusters (1984)</td>\n",
       "      <td>Comedy, Horror</td>\n",
       "    </tr>\n",
       "    <tr>\n",
       "      <th>90492</th>\n",
       "      <td>600</td>\n",
       "      <td>1959</td>\n",
       "      <td>4</td>\n",
       "      <td>Out of Africa (1985)</td>\n",
       "      <td>Drama, Romance</td>\n",
       "    </tr>\n",
       "    <tr>\n",
       "      <th>90493</th>\n",
       "      <td>600</td>\n",
       "      <td>2917</td>\n",
       "      <td>3</td>\n",
       "      <td>Body Heat (1981)</td>\n",
       "      <td>Crime, Thriller</td>\n",
       "    </tr>\n",
       "    <tr>\n",
       "      <th>90494</th>\n",
       "      <td>600</td>\n",
       "      <td>1997</td>\n",
       "      <td>4</td>\n",
       "      <td>Exorcist, The (1973)</td>\n",
       "      <td>Horror</td>\n",
       "    </tr>\n",
       "    <tr>\n",
       "      <th>90495</th>\n",
       "      <td>600</td>\n",
       "      <td>2961</td>\n",
       "      <td>1</td>\n",
       "      <td>Story of Us, The (1999)</td>\n",
       "      <td>Comedy, Drama</td>\n",
       "    </tr>\n",
       "  </tbody>\n",
       "</table>\n",
       "<p>90496 rows × 5 columns</p>\n",
       "</div>"
      ],
      "text/plain": [
       "       userid  movieid  rating                                 movienm  \\\n",
       "0           1     1193       5  One Flew Over the Cuckoo's Nest (1975)   \n",
       "1           1      661       3        James and the Giant Peach (1996)   \n",
       "2           1      914       3                     My Fair Lady (1964)   \n",
       "3           1     3408       4                  Erin Brockovich (2000)   \n",
       "4           1     2355       5                    Bug's Life, A (1998)   \n",
       "...       ...      ...     ...                                     ...   \n",
       "90491     600     2716       5                     Ghostbusters (1984)   \n",
       "90492     600     1959       4                    Out of Africa (1985)   \n",
       "90493     600     2917       3                        Body Heat (1981)   \n",
       "90494     600     1997       4                    Exorcist, The (1973)   \n",
       "90495     600     2961       1                 Story of Us, The (1999)   \n",
       "\n",
       "                             genreid  \n",
       "0                              Drama  \n",
       "1      Animation, Childrens, Musical  \n",
       "2                   Musical, Romance  \n",
       "3                              Drama  \n",
       "4       Animation, Childrens, Comedy  \n",
       "...                              ...  \n",
       "90491                 Comedy, Horror  \n",
       "90492                 Drama, Romance  \n",
       "90493                Crime, Thriller  \n",
       "90494                         Horror  \n",
       "90495                  Comedy, Drama  \n",
       "\n",
       "[90496 rows x 5 columns]"
      ]
     },
     "execution_count": 4,
     "metadata": {},
     "output_type": "execute_result"
    }
   ],
   "source": [
    "data"
   ]
  },
  {
   "cell_type": "markdown",
   "id": "dff6fee8-2d4a-467d-9a96-0810b6cd523a",
   "metadata": {},
   "source": [
    "При помощи модуля pandasql"
   ]
  },
  {
   "cell_type": "code",
   "execution_count": 5,
   "id": "b4b94a03-6598-4402-b07b-4ebb4f73b7e2",
   "metadata": {},
   "outputs": [
    {
     "data": {
      "text/html": [
       "<div>\n",
       "<style scoped>\n",
       "    .dataframe tbody tr th:only-of-type {\n",
       "        vertical-align: middle;\n",
       "    }\n",
       "\n",
       "    .dataframe tbody tr th {\n",
       "        vertical-align: top;\n",
       "    }\n",
       "\n",
       "    .dataframe thead th {\n",
       "        text-align: right;\n",
       "    }\n",
       "</style>\n",
       "<table border=\"1\" class=\"dataframe\">\n",
       "  <thead>\n",
       "    <tr style=\"text-align: right;\">\n",
       "      <th></th>\n",
       "      <th>userid</th>\n",
       "      <th>movieid</th>\n",
       "      <th>rating</th>\n",
       "      <th>movienm</th>\n",
       "      <th>genreid</th>\n",
       "    </tr>\n",
       "  </thead>\n",
       "  <tbody>\n",
       "    <tr>\n",
       "      <th>0</th>\n",
       "      <td>1</td>\n",
       "      <td>1193</td>\n",
       "      <td>5</td>\n",
       "      <td>One Flew Over the Cuckoo's Nest (1975)</td>\n",
       "      <td>Drama</td>\n",
       "    </tr>\n",
       "    <tr>\n",
       "      <th>1</th>\n",
       "      <td>1</td>\n",
       "      <td>661</td>\n",
       "      <td>3</td>\n",
       "      <td>James and the Giant Peach (1996)</td>\n",
       "      <td>Animation, Childrens, Musical</td>\n",
       "    </tr>\n",
       "    <tr>\n",
       "      <th>2</th>\n",
       "      <td>1</td>\n",
       "      <td>914</td>\n",
       "      <td>3</td>\n",
       "      <td>My Fair Lady (1964)</td>\n",
       "      <td>Musical, Romance</td>\n",
       "    </tr>\n",
       "    <tr>\n",
       "      <th>3</th>\n",
       "      <td>1</td>\n",
       "      <td>3408</td>\n",
       "      <td>4</td>\n",
       "      <td>Erin Brockovich (2000)</td>\n",
       "      <td>Drama</td>\n",
       "    </tr>\n",
       "    <tr>\n",
       "      <th>4</th>\n",
       "      <td>1</td>\n",
       "      <td>2355</td>\n",
       "      <td>5</td>\n",
       "      <td>Bug's Life, A (1998)</td>\n",
       "      <td>Animation, Childrens, Comedy</td>\n",
       "    </tr>\n",
       "    <tr>\n",
       "      <th>...</th>\n",
       "      <td>...</td>\n",
       "      <td>...</td>\n",
       "      <td>...</td>\n",
       "      <td>...</td>\n",
       "      <td>...</td>\n",
       "    </tr>\n",
       "    <tr>\n",
       "      <th>90491</th>\n",
       "      <td>600</td>\n",
       "      <td>2716</td>\n",
       "      <td>5</td>\n",
       "      <td>Ghostbusters (1984)</td>\n",
       "      <td>Comedy, Horror</td>\n",
       "    </tr>\n",
       "    <tr>\n",
       "      <th>90492</th>\n",
       "      <td>600</td>\n",
       "      <td>1959</td>\n",
       "      <td>4</td>\n",
       "      <td>Out of Africa (1985)</td>\n",
       "      <td>Drama, Romance</td>\n",
       "    </tr>\n",
       "    <tr>\n",
       "      <th>90493</th>\n",
       "      <td>600</td>\n",
       "      <td>2917</td>\n",
       "      <td>3</td>\n",
       "      <td>Body Heat (1981)</td>\n",
       "      <td>Crime, Thriller</td>\n",
       "    </tr>\n",
       "    <tr>\n",
       "      <th>90494</th>\n",
       "      <td>600</td>\n",
       "      <td>1997</td>\n",
       "      <td>4</td>\n",
       "      <td>Exorcist, The (1973)</td>\n",
       "      <td>Horror</td>\n",
       "    </tr>\n",
       "    <tr>\n",
       "      <th>90495</th>\n",
       "      <td>600</td>\n",
       "      <td>2961</td>\n",
       "      <td>1</td>\n",
       "      <td>Story of Us, The (1999)</td>\n",
       "      <td>Comedy, Drama</td>\n",
       "    </tr>\n",
       "  </tbody>\n",
       "</table>\n",
       "<p>90496 rows × 5 columns</p>\n",
       "</div>"
      ],
      "text/plain": [
       "       userid  movieid  rating                                 movienm  \\\n",
       "0           1     1193       5  One Flew Over the Cuckoo's Nest (1975)   \n",
       "1           1      661       3        James and the Giant Peach (1996)   \n",
       "2           1      914       3                     My Fair Lady (1964)   \n",
       "3           1     3408       4                  Erin Brockovich (2000)   \n",
       "4           1     2355       5                    Bug's Life, A (1998)   \n",
       "...       ...      ...     ...                                     ...   \n",
       "90491     600     2716       5                     Ghostbusters (1984)   \n",
       "90492     600     1959       4                    Out of Africa (1985)   \n",
       "90493     600     2917       3                        Body Heat (1981)   \n",
       "90494     600     1997       4                    Exorcist, The (1973)   \n",
       "90495     600     2961       1                 Story of Us, The (1999)   \n",
       "\n",
       "                             genreid  \n",
       "0                              Drama  \n",
       "1      Animation, Childrens, Musical  \n",
       "2                   Musical, Romance  \n",
       "3                              Drama  \n",
       "4       Animation, Childrens, Comedy  \n",
       "...                              ...  \n",
       "90491                 Comedy, Horror  \n",
       "90492                 Drama, Romance  \n",
       "90493                Crime, Thriller  \n",
       "90494                         Horror  \n",
       "90495                  Comedy, Drama  \n",
       "\n",
       "[90496 rows x 5 columns]"
      ]
     },
     "execution_count": 5,
     "metadata": {},
     "output_type": "execute_result"
    }
   ],
   "source": [
    "ps.sqldf(\"select * from data\")"
   ]
  },
  {
   "cell_type": "markdown",
   "id": "6a1e01cf-fd46-413f-86a5-cb9f9774fdf2",
   "metadata": {},
   "source": [
    "Итак, из чего состоит датасет?\n",
    "\n",
    "* __userid__ - идентификатор пользователя, можно сказать его имя\n",
    "* __movieid__ - идентификатор фильма\n",
    "* __rating__ - рейтинг, который пользователь поставил фильму\n",
    "* __movienm__ - название фильма\n",
    "* __genreid__ - жанры фильма"
   ]
  },
  {
   "cell_type": "markdown",
   "id": "774e7f9a-b71c-4c4c-bbbe-e25633e634ab",
   "metadata": {},
   "source": [
    "## Проведем исследовательский анализ данных"
   ]
  },
  {
   "cell_type": "markdown",
   "id": "cad20daf-4193-4656-af3f-dc0b45e4ae1b",
   "metadata": {},
   "source": [
    "При помощи SQL и модуля pandasql, попробуем узнать что-то интересное о данных. Для этого нам нужно сформулировать, что мы хотим узнать, и правильно составить для этого запрос.\n",
    "\n",
    "Например:\n",
    "\n",
    "* Количество взаимодействий всех пользователей со всеми фильмами (количество строк)\n",
    "* Количество уникальных фильмов (без повторений)\n",
    "* Количество уникальных пользователей\n",
    "* Максимальный, минимальный и средний рейтинг среди всех фильмов\n",
    "* Средний рейтинг для каждого пользователя\n",
    "* Средний рейтинг для каждого фильма"
   ]
  },
  {
   "cell_type": "markdown",
   "id": "1d7fe038-b288-4ec4-834c-6859ab9d775d",
   "metadata": {},
   "source": [
    "### Количество взаимодействий всех пользователей со всеми фильмами (количество строк)"
   ]
  },
  {
   "cell_type": "code",
   "execution_count": 6,
   "id": "f4f8ebb8-689a-411c-8929-3787b97f4d14",
   "metadata": {},
   "outputs": [
    {
     "data": {
      "text/html": [
       "<div>\n",
       "<style scoped>\n",
       "    .dataframe tbody tr th:only-of-type {\n",
       "        vertical-align: middle;\n",
       "    }\n",
       "\n",
       "    .dataframe tbody tr th {\n",
       "        vertical-align: top;\n",
       "    }\n",
       "\n",
       "    .dataframe thead th {\n",
       "        text-align: right;\n",
       "    }\n",
       "</style>\n",
       "<table border=\"1\" class=\"dataframe\">\n",
       "  <thead>\n",
       "    <tr style=\"text-align: right;\">\n",
       "      <th></th>\n",
       "      <th>count(movieid)</th>\n",
       "    </tr>\n",
       "  </thead>\n",
       "  <tbody>\n",
       "    <tr>\n",
       "      <th>0</th>\n",
       "      <td>90496</td>\n",
       "    </tr>\n",
       "  </tbody>\n",
       "</table>\n",
       "</div>"
      ],
      "text/plain": [
       "   count(movieid)\n",
       "0           90496"
      ]
     },
     "execution_count": 6,
     "metadata": {},
     "output_type": "execute_result"
    }
   ],
   "source": [
    "ps.sqldf(\"select count(movieid) from data\")"
   ]
  },
  {
   "cell_type": "code",
   "execution_count": 7,
   "id": "91d05e98-7903-450b-b40c-5084e9e25c2d",
   "metadata": {},
   "outputs": [
    {
     "data": {
      "text/plain": [
       "90496"
      ]
     },
     "execution_count": 7,
     "metadata": {},
     "output_type": "execute_result"
    }
   ],
   "source": [
    "len(data)"
   ]
  },
  {
   "cell_type": "markdown",
   "id": "199c5996-5342-46a4-a8cf-6d900cac0ced",
   "metadata": {},
   "source": [
    "### Количество уникальных фильмов (без повторений)"
   ]
  },
  {
   "cell_type": "code",
   "execution_count": 8,
   "id": "294f1daa-2ad5-42f9-bbf1-b1e5806d7d2c",
   "metadata": {},
   "outputs": [
    {
     "data": {
      "text/html": [
       "<div>\n",
       "<style scoped>\n",
       "    .dataframe tbody tr th:only-of-type {\n",
       "        vertical-align: middle;\n",
       "    }\n",
       "\n",
       "    .dataframe tbody tr th {\n",
       "        vertical-align: top;\n",
       "    }\n",
       "\n",
       "    .dataframe thead th {\n",
       "        text-align: right;\n",
       "    }\n",
       "</style>\n",
       "<table border=\"1\" class=\"dataframe\">\n",
       "  <thead>\n",
       "    <tr style=\"text-align: right;\">\n",
       "      <th></th>\n",
       "      <th>movieid</th>\n",
       "    </tr>\n",
       "  </thead>\n",
       "  <tbody>\n",
       "    <tr>\n",
       "      <th>0</th>\n",
       "      <td>1193</td>\n",
       "    </tr>\n",
       "    <tr>\n",
       "      <th>1</th>\n",
       "      <td>661</td>\n",
       "    </tr>\n",
       "    <tr>\n",
       "      <th>2</th>\n",
       "      <td>914</td>\n",
       "    </tr>\n",
       "    <tr>\n",
       "      <th>3</th>\n",
       "      <td>3408</td>\n",
       "    </tr>\n",
       "    <tr>\n",
       "      <th>4</th>\n",
       "      <td>2355</td>\n",
       "    </tr>\n",
       "    <tr>\n",
       "      <th>...</th>\n",
       "      <td>...</td>\n",
       "    </tr>\n",
       "    <tr>\n",
       "      <th>3229</th>\n",
       "      <td>297</td>\n",
       "    </tr>\n",
       "    <tr>\n",
       "      <th>3230</th>\n",
       "      <td>1558</td>\n",
       "    </tr>\n",
       "    <tr>\n",
       "      <th>3231</th>\n",
       "      <td>1565</td>\n",
       "    </tr>\n",
       "    <tr>\n",
       "      <th>3232</th>\n",
       "      <td>3588</td>\n",
       "    </tr>\n",
       "    <tr>\n",
       "      <th>3233</th>\n",
       "      <td>1549</td>\n",
       "    </tr>\n",
       "  </tbody>\n",
       "</table>\n",
       "<p>3234 rows × 1 columns</p>\n",
       "</div>"
      ],
      "text/plain": [
       "      movieid\n",
       "0        1193\n",
       "1         661\n",
       "2         914\n",
       "3        3408\n",
       "4        2355\n",
       "...       ...\n",
       "3229      297\n",
       "3230     1558\n",
       "3231     1565\n",
       "3232     3588\n",
       "3233     1549\n",
       "\n",
       "[3234 rows x 1 columns]"
      ]
     },
     "execution_count": 8,
     "metadata": {},
     "output_type": "execute_result"
    }
   ],
   "source": [
    "ps.sqldf(\"select distinct movieid from data\")"
   ]
  },
  {
   "cell_type": "code",
   "execution_count": 9,
   "id": "913ec6e1-fb8f-4428-a7f1-bc26fa71884e",
   "metadata": {},
   "outputs": [
    {
     "data": {
      "text/html": [
       "<div>\n",
       "<style scoped>\n",
       "    .dataframe tbody tr th:only-of-type {\n",
       "        vertical-align: middle;\n",
       "    }\n",
       "\n",
       "    .dataframe tbody tr th {\n",
       "        vertical-align: top;\n",
       "    }\n",
       "\n",
       "    .dataframe thead th {\n",
       "        text-align: right;\n",
       "    }\n",
       "</style>\n",
       "<table border=\"1\" class=\"dataframe\">\n",
       "  <thead>\n",
       "    <tr style=\"text-align: right;\">\n",
       "      <th></th>\n",
       "      <th>count(distinct movieid)</th>\n",
       "    </tr>\n",
       "  </thead>\n",
       "  <tbody>\n",
       "    <tr>\n",
       "      <th>0</th>\n",
       "      <td>3234</td>\n",
       "    </tr>\n",
       "  </tbody>\n",
       "</table>\n",
       "</div>"
      ],
      "text/plain": [
       "   count(distinct movieid)\n",
       "0                     3234"
      ]
     },
     "execution_count": 9,
     "metadata": {},
     "output_type": "execute_result"
    }
   ],
   "source": [
    "ps.sqldf(\"select count(distinct movieid) from data\")"
   ]
  },
  {
   "cell_type": "code",
   "execution_count": 10,
   "id": "109e65ec-c5ce-44f8-8fb0-74ab7337f83e",
   "metadata": {},
   "outputs": [
    {
     "data": {
      "text/plain": [
       "3234"
      ]
     },
     "execution_count": 10,
     "metadata": {},
     "output_type": "execute_result"
    }
   ],
   "source": [
    "data.movieid.nunique()"
   ]
  },
  {
   "cell_type": "markdown",
   "id": "c3dfa57a-80ae-45fe-a915-481f2f3d3bc4",
   "metadata": {},
   "source": [
    "### Количество уникальных пользователей"
   ]
  },
  {
   "cell_type": "markdown",
   "id": "82faa004-07c9-4c51-9f4c-becdb0a7df33",
   "metadata": {},
   "source": [
    "Упражнение для вас"
   ]
  },
  {
   "cell_type": "code",
   "execution_count": null,
   "id": "c5172a40-86a3-4731-be86-cfc10d17a362",
   "metadata": {},
   "outputs": [],
   "source": [
    "ps.sqldf(\"\")"
   ]
  },
  {
   "cell_type": "code",
   "execution_count": null,
   "id": "05c7dc7b-38d3-4960-a1b4-311d086e9868",
   "metadata": {},
   "outputs": [],
   "source": [
    "data."
   ]
  },
  {
   "cell_type": "markdown",
   "id": "9adfe92e-67c6-4829-af57-93e9713c753d",
   "metadata": {},
   "source": [
    "### Максимальный, минимальный и средний рейтинг"
   ]
  },
  {
   "cell_type": "markdown",
   "id": "b1340d93-af8b-4a8f-b0ec-e58cdc0812f7",
   "metadata": {},
   "source": [
    "Максимальный"
   ]
  },
  {
   "cell_type": "code",
   "execution_count": 11,
   "id": "a7e91ab5-efd1-4447-a7b7-b6740893b03f",
   "metadata": {},
   "outputs": [
    {
     "data": {
      "text/html": [
       "<div>\n",
       "<style scoped>\n",
       "    .dataframe tbody tr th:only-of-type {\n",
       "        vertical-align: middle;\n",
       "    }\n",
       "\n",
       "    .dataframe tbody tr th {\n",
       "        vertical-align: top;\n",
       "    }\n",
       "\n",
       "    .dataframe thead th {\n",
       "        text-align: right;\n",
       "    }\n",
       "</style>\n",
       "<table border=\"1\" class=\"dataframe\">\n",
       "  <thead>\n",
       "    <tr style=\"text-align: right;\">\n",
       "      <th></th>\n",
       "      <th>max(rating)</th>\n",
       "    </tr>\n",
       "  </thead>\n",
       "  <tbody>\n",
       "    <tr>\n",
       "      <th>0</th>\n",
       "      <td>5</td>\n",
       "    </tr>\n",
       "  </tbody>\n",
       "</table>\n",
       "</div>"
      ],
      "text/plain": [
       "   max(rating)\n",
       "0            5"
      ]
     },
     "execution_count": 11,
     "metadata": {},
     "output_type": "execute_result"
    }
   ],
   "source": [
    "ps.sqldf(\"select max(rating) from data\")"
   ]
  },
  {
   "cell_type": "code",
   "execution_count": 12,
   "id": "87078be0-6f63-4911-b7f7-afca8f73ca95",
   "metadata": {},
   "outputs": [
    {
     "data": {
      "text/plain": [
       "5"
      ]
     },
     "execution_count": 12,
     "metadata": {},
     "output_type": "execute_result"
    }
   ],
   "source": [
    "data.rating.max()"
   ]
  },
  {
   "cell_type": "markdown",
   "id": "c83077b0-a1d3-4a44-96c2-8a837f5ffa23",
   "metadata": {},
   "source": [
    "Минимальный"
   ]
  },
  {
   "cell_type": "code",
   "execution_count": 13,
   "id": "dadd920c-1a41-4317-882f-b282aa4bdd28",
   "metadata": {},
   "outputs": [
    {
     "data": {
      "text/html": [
       "<div>\n",
       "<style scoped>\n",
       "    .dataframe tbody tr th:only-of-type {\n",
       "        vertical-align: middle;\n",
       "    }\n",
       "\n",
       "    .dataframe tbody tr th {\n",
       "        vertical-align: top;\n",
       "    }\n",
       "\n",
       "    .dataframe thead th {\n",
       "        text-align: right;\n",
       "    }\n",
       "</style>\n",
       "<table border=\"1\" class=\"dataframe\">\n",
       "  <thead>\n",
       "    <tr style=\"text-align: right;\">\n",
       "      <th></th>\n",
       "      <th>min(rating)</th>\n",
       "    </tr>\n",
       "  </thead>\n",
       "  <tbody>\n",
       "    <tr>\n",
       "      <th>0</th>\n",
       "      <td>1</td>\n",
       "    </tr>\n",
       "  </tbody>\n",
       "</table>\n",
       "</div>"
      ],
      "text/plain": [
       "   min(rating)\n",
       "0            1"
      ]
     },
     "execution_count": 13,
     "metadata": {},
     "output_type": "execute_result"
    }
   ],
   "source": [
    "ps.sqldf(\"select min(rating) from data\")"
   ]
  },
  {
   "cell_type": "code",
   "execution_count": 14,
   "id": "0089e029-e10d-4520-9975-ce1bdc31d0bd",
   "metadata": {},
   "outputs": [
    {
     "data": {
      "text/plain": [
       "1"
      ]
     },
     "execution_count": 14,
     "metadata": {},
     "output_type": "execute_result"
    }
   ],
   "source": [
    "data.rating.min()"
   ]
  },
  {
   "cell_type": "markdown",
   "id": "341db291-bcb9-47b1-8443-d87d04809a09",
   "metadata": {},
   "source": [
    "Средний"
   ]
  },
  {
   "cell_type": "code",
   "execution_count": 15,
   "id": "057a435c-8886-42f9-86f2-28eb3ee3ccc7",
   "metadata": {},
   "outputs": [
    {
     "data": {
      "text/html": [
       "<div>\n",
       "<style scoped>\n",
       "    .dataframe tbody tr th:only-of-type {\n",
       "        vertical-align: middle;\n",
       "    }\n",
       "\n",
       "    .dataframe tbody tr th {\n",
       "        vertical-align: top;\n",
       "    }\n",
       "\n",
       "    .dataframe thead th {\n",
       "        text-align: right;\n",
       "    }\n",
       "</style>\n",
       "<table border=\"1\" class=\"dataframe\">\n",
       "  <thead>\n",
       "    <tr style=\"text-align: right;\">\n",
       "      <th></th>\n",
       "      <th>avg(rating)</th>\n",
       "    </tr>\n",
       "  </thead>\n",
       "  <tbody>\n",
       "    <tr>\n",
       "      <th>0</th>\n",
       "      <td>3.617298</td>\n",
       "    </tr>\n",
       "  </tbody>\n",
       "</table>\n",
       "</div>"
      ],
      "text/plain": [
       "   avg(rating)\n",
       "0     3.617298"
      ]
     },
     "execution_count": 15,
     "metadata": {},
     "output_type": "execute_result"
    }
   ],
   "source": [
    "ps.sqldf(\"select avg(rating) from data\")"
   ]
  },
  {
   "cell_type": "code",
   "execution_count": 16,
   "id": "ee522e78-285c-4e29-95ee-5f768dc9c463",
   "metadata": {},
   "outputs": [
    {
     "data": {
      "text/plain": [
       "3.6172980021216405"
      ]
     },
     "execution_count": 16,
     "metadata": {},
     "output_type": "execute_result"
    }
   ],
   "source": [
    "data.rating.mean()"
   ]
  },
  {
   "cell_type": "markdown",
   "id": "ef13e45c-428d-4660-8d80-aa1ab10b1ee8",
   "metadata": {},
   "source": [
    "### Средний рейтинг для каждого пользователя"
   ]
  },
  {
   "cell_type": "code",
   "execution_count": 17,
   "id": "2ee7ffab-b5e4-4cef-baa2-aa20d933bcb6",
   "metadata": {},
   "outputs": [
    {
     "data": {
      "text/html": [
       "<div>\n",
       "<style scoped>\n",
       "    .dataframe tbody tr th:only-of-type {\n",
       "        vertical-align: middle;\n",
       "    }\n",
       "\n",
       "    .dataframe tbody tr th {\n",
       "        vertical-align: top;\n",
       "    }\n",
       "\n",
       "    .dataframe thead th {\n",
       "        text-align: right;\n",
       "    }\n",
       "</style>\n",
       "<table border=\"1\" class=\"dataframe\">\n",
       "  <thead>\n",
       "    <tr style=\"text-align: right;\">\n",
       "      <th></th>\n",
       "      <th>avg(rating)</th>\n",
       "    </tr>\n",
       "  </thead>\n",
       "  <tbody>\n",
       "    <tr>\n",
       "      <th>0</th>\n",
       "      <td>4.188679</td>\n",
       "    </tr>\n",
       "    <tr>\n",
       "      <th>1</th>\n",
       "      <td>3.713178</td>\n",
       "    </tr>\n",
       "    <tr>\n",
       "      <th>2</th>\n",
       "      <td>3.901961</td>\n",
       "    </tr>\n",
       "    <tr>\n",
       "      <th>3</th>\n",
       "      <td>4.190476</td>\n",
       "    </tr>\n",
       "    <tr>\n",
       "      <th>4</th>\n",
       "      <td>3.146465</td>\n",
       "    </tr>\n",
       "    <tr>\n",
       "      <th>...</th>\n",
       "      <td>...</td>\n",
       "    </tr>\n",
       "    <tr>\n",
       "      <th>595</th>\n",
       "      <td>2.952381</td>\n",
       "    </tr>\n",
       "    <tr>\n",
       "      <th>596</th>\n",
       "      <td>4.473684</td>\n",
       "    </tr>\n",
       "    <tr>\n",
       "      <th>597</th>\n",
       "      <td>3.315789</td>\n",
       "    </tr>\n",
       "    <tr>\n",
       "      <th>598</th>\n",
       "      <td>3.851852</td>\n",
       "    </tr>\n",
       "    <tr>\n",
       "      <th>599</th>\n",
       "      <td>3.652174</td>\n",
       "    </tr>\n",
       "  </tbody>\n",
       "</table>\n",
       "<p>600 rows × 1 columns</p>\n",
       "</div>"
      ],
      "text/plain": [
       "     avg(rating)\n",
       "0       4.188679\n",
       "1       3.713178\n",
       "2       3.901961\n",
       "3       4.190476\n",
       "4       3.146465\n",
       "..           ...\n",
       "595     2.952381\n",
       "596     4.473684\n",
       "597     3.315789\n",
       "598     3.851852\n",
       "599     3.652174\n",
       "\n",
       "[600 rows x 1 columns]"
      ]
     },
     "execution_count": 17,
     "metadata": {},
     "output_type": "execute_result"
    }
   ],
   "source": [
    "ps.sqldf(\"select avg(rating) from data group by userid\")"
   ]
  },
  {
   "cell_type": "code",
   "execution_count": 18,
   "id": "f85fc5fd-d1f7-4cde-98de-f14b33258e26",
   "metadata": {},
   "outputs": [
    {
     "data": {
      "text/plain": [
       "userid\n",
       "1      4.188679\n",
       "2      3.713178\n",
       "3      3.901961\n",
       "4      4.190476\n",
       "5      3.146465\n",
       "         ...   \n",
       "596    2.952381\n",
       "597    4.473684\n",
       "598    3.315789\n",
       "599    3.851852\n",
       "600    3.652174\n",
       "Name: rating, Length: 600, dtype: float64"
      ]
     },
     "execution_count": 18,
     "metadata": {},
     "output_type": "execute_result"
    }
   ],
   "source": [
    "data.groupby('userid').rating.mean()"
   ]
  },
  {
   "cell_type": "markdown",
   "id": "7385109d-9de6-4c08-9502-72ee5dd14719",
   "metadata": {},
   "source": [
    "### Средний рейтинг для каждого фильма"
   ]
  },
  {
   "cell_type": "markdown",
   "id": "a6fafac2-39e2-4425-ba6c-bf2ec7642532",
   "metadata": {},
   "source": [
    "Упражнение для вас"
   ]
  },
  {
   "cell_type": "code",
   "execution_count": 75,
   "id": "819acce4-2a82-4908-9e9f-41f83262c9e3",
   "metadata": {},
   "outputs": [],
   "source": [
    "ps.sqldf(\"\")"
   ]
  },
  {
   "cell_type": "code",
   "execution_count": null,
   "id": "5501b302-70b8-4a36-94c0-58fcb94f5ad3",
   "metadata": {},
   "outputs": [],
   "source": [
    "data.groupby('').rating."
   ]
  },
  {
   "cell_type": "markdown",
   "id": "ba4c4b30-2331-4da1-8555-b1eec998a324",
   "metadata": {},
   "source": [
    "## Алгоритм рекомендаций"
   ]
  },
  {
   "cell_type": "markdown",
   "id": "e07e6b65-e4ca-4bf4-8586-20aba33a1fc1",
   "metadata": {},
   "source": [
    "### Рекомендация самых популярных фильмов"
   ]
  },
  {
   "cell_type": "markdown",
   "id": "81cd9a8e-ab23-49f0-b87c-2b532c807af7",
   "metadata": {},
   "source": [
    "Для начала нам нужно посчитать какой фильм сколько раз просматривался"
   ]
  },
  {
   "cell_type": "code",
   "execution_count": 19,
   "id": "f86ea678-9cab-4fa8-9acf-76fca3385631",
   "metadata": {},
   "outputs": [
    {
     "data": {
      "text/plain": [
       "American Beauty (1999)                                   359\n",
       "Star Wars: Episode V - The Empire Strikes Back (1980)    302\n",
       "Star Wars: Episode VI - Return of the Jedi (1983)        295\n",
       "Star Wars: Episode IV - A New Hope (1977)                290\n",
       "Jurassic Park (1993)                                     289\n",
       "                                                        ... \n",
       "Crow: Salvation, The (2000)                                1\n",
       "Among Giants (1998)                                        1\n",
       "Light It Up (1999)                                         1\n",
       "Julien Donkey-Boy (1999)                                   1\n",
       "Rough Magic (1995)                                         1\n",
       "Name: movienm, Length: 3234, dtype: int64"
      ]
     },
     "execution_count": 19,
     "metadata": {},
     "output_type": "execute_result"
    }
   ],
   "source": [
    "data.movienm.value_counts()"
   ]
  },
  {
   "cell_type": "markdown",
   "id": "90221b46-e47b-48f3-bcf0-b6133a398de0",
   "metadata": {},
   "source": [
    "Сохраним список из топ-100 самых популярных фильмов"
   ]
  },
  {
   "cell_type": "code",
   "execution_count": 20,
   "id": "46a71429-e8a7-4587-89d7-5767cda7db78",
   "metadata": {},
   "outputs": [
    {
     "data": {
      "text/plain": [
       "array(['American Beauty (1999)',\n",
       "       'Star Wars: Episode V - The Empire Strikes Back (1980)',\n",
       "       'Star Wars: Episode VI - Return of the Jedi (1983)',\n",
       "       'Star Wars: Episode IV - A New Hope (1977)',\n",
       "       'Jurassic Park (1993)', 'Saving Private Ryan (1998)',\n",
       "       'Matrix, The (1999)', 'Raiders of the Lost Ark (1981)',\n",
       "       'Gladiator (2000)', 'Men in Black (1997)'], dtype=object)"
      ]
     },
     "execution_count": 20,
     "metadata": {},
     "output_type": "execute_result"
    }
   ],
   "source": [
    "top100_popular = data.movienm.value_counts().index.values[:100]\n",
    "top100_popular[:10]"
   ]
  },
  {
   "cell_type": "markdown",
   "id": "f99e1fd6-5f1f-46c4-9e3c-5949ba53a0a5",
   "metadata": {},
   "source": [
    "Создадим рекомендации из 10 фильмов для случайного пользователя. Однако, не будем забывать, что пользователь уже смотрел какие-то фильмы, поэтому их нужно исключить."
   ]
  },
  {
   "cell_type": "code",
   "execution_count": 21,
   "id": "0f1db765-a436-4cb0-9de5-3fb4fcb5a71e",
   "metadata": {},
   "outputs": [
    {
     "data": {
      "text/html": [
       "<div>\n",
       "<style scoped>\n",
       "    .dataframe tbody tr th:only-of-type {\n",
       "        vertical-align: middle;\n",
       "    }\n",
       "\n",
       "    .dataframe tbody tr th {\n",
       "        vertical-align: top;\n",
       "    }\n",
       "\n",
       "    .dataframe thead th {\n",
       "        text-align: right;\n",
       "    }\n",
       "</style>\n",
       "<table border=\"1\" class=\"dataframe\">\n",
       "  <thead>\n",
       "    <tr style=\"text-align: right;\">\n",
       "      <th></th>\n",
       "      <th>userid</th>\n",
       "      <th>movieid</th>\n",
       "      <th>rating</th>\n",
       "      <th>movienm</th>\n",
       "      <th>genreid</th>\n",
       "    </tr>\n",
       "  </thead>\n",
       "  <tbody>\n",
       "    <tr>\n",
       "      <th>53</th>\n",
       "      <td>2</td>\n",
       "      <td>1357</td>\n",
       "      <td>5</td>\n",
       "      <td>Shine (1996)</td>\n",
       "      <td>Drama, Romance</td>\n",
       "    </tr>\n",
       "    <tr>\n",
       "      <th>54</th>\n",
       "      <td>2</td>\n",
       "      <td>3068</td>\n",
       "      <td>4</td>\n",
       "      <td>Verdict, The (1982)</td>\n",
       "      <td>Drama</td>\n",
       "    </tr>\n",
       "    <tr>\n",
       "      <th>55</th>\n",
       "      <td>2</td>\n",
       "      <td>1537</td>\n",
       "      <td>4</td>\n",
       "      <td>Shall We Dance? (Shall We Dansu?) (1996)</td>\n",
       "      <td>Comedy</td>\n",
       "    </tr>\n",
       "    <tr>\n",
       "      <th>56</th>\n",
       "      <td>2</td>\n",
       "      <td>647</td>\n",
       "      <td>3</td>\n",
       "      <td>Courage Under Fire (1996)</td>\n",
       "      <td>Drama, War</td>\n",
       "    </tr>\n",
       "    <tr>\n",
       "      <th>57</th>\n",
       "      <td>2</td>\n",
       "      <td>2194</td>\n",
       "      <td>4</td>\n",
       "      <td>Untouchables, The (1987)</td>\n",
       "      <td>Action, Crime, Drama</td>\n",
       "    </tr>\n",
       "    <tr>\n",
       "      <th>...</th>\n",
       "      <td>...</td>\n",
       "      <td>...</td>\n",
       "      <td>...</td>\n",
       "      <td>...</td>\n",
       "      <td>...</td>\n",
       "    </tr>\n",
       "    <tr>\n",
       "      <th>177</th>\n",
       "      <td>2</td>\n",
       "      <td>356</td>\n",
       "      <td>5</td>\n",
       "      <td>Forrest Gump (1994)</td>\n",
       "      <td>Comedy, Romance, War</td>\n",
       "    </tr>\n",
       "    <tr>\n",
       "      <th>178</th>\n",
       "      <td>2</td>\n",
       "      <td>1245</td>\n",
       "      <td>2</td>\n",
       "      <td>Miller's Crossing (1990)</td>\n",
       "      <td>Drama</td>\n",
       "    </tr>\n",
       "    <tr>\n",
       "      <th>179</th>\n",
       "      <td>2</td>\n",
       "      <td>1246</td>\n",
       "      <td>5</td>\n",
       "      <td>Dead Poets Society (1989)</td>\n",
       "      <td>Drama</td>\n",
       "    </tr>\n",
       "    <tr>\n",
       "      <th>180</th>\n",
       "      <td>2</td>\n",
       "      <td>3893</td>\n",
       "      <td>1</td>\n",
       "      <td>Nurse Betty (2000)</td>\n",
       "      <td>Comedy, Thriller</td>\n",
       "    </tr>\n",
       "    <tr>\n",
       "      <th>181</th>\n",
       "      <td>2</td>\n",
       "      <td>1247</td>\n",
       "      <td>5</td>\n",
       "      <td>Graduate, The (1967)</td>\n",
       "      <td>Drama, Romance</td>\n",
       "    </tr>\n",
       "  </tbody>\n",
       "</table>\n",
       "<p>129 rows × 5 columns</p>\n",
       "</div>"
      ],
      "text/plain": [
       "     userid  movieid  rating                                   movienm  \\\n",
       "53        2     1357       5                              Shine (1996)   \n",
       "54        2     3068       4                       Verdict, The (1982)   \n",
       "55        2     1537       4  Shall We Dance? (Shall We Dansu?) (1996)   \n",
       "56        2      647       3                 Courage Under Fire (1996)   \n",
       "57        2     2194       4                  Untouchables, The (1987)   \n",
       "..      ...      ...     ...                                       ...   \n",
       "177       2      356       5                       Forrest Gump (1994)   \n",
       "178       2     1245       2                  Miller's Crossing (1990)   \n",
       "179       2     1246       5                 Dead Poets Society (1989)   \n",
       "180       2     3893       1                        Nurse Betty (2000)   \n",
       "181       2     1247       5                      Graduate, The (1967)   \n",
       "\n",
       "                  genreid  \n",
       "53         Drama, Romance  \n",
       "54                  Drama  \n",
       "55                 Comedy  \n",
       "56             Drama, War  \n",
       "57   Action, Crime, Drama  \n",
       "..                    ...  \n",
       "177  Comedy, Romance, War  \n",
       "178                 Drama  \n",
       "179                 Drama  \n",
       "180      Comedy, Thriller  \n",
       "181        Drama, Romance  \n",
       "\n",
       "[129 rows x 5 columns]"
      ]
     },
     "execution_count": 21,
     "metadata": {},
     "output_type": "execute_result"
    }
   ],
   "source": [
    "data[data.userid == 2]"
   ]
  },
  {
   "cell_type": "markdown",
   "id": "282a87d7-45b6-40cc-8901-0bf94077b16e",
   "metadata": {},
   "source": [
    "Создадим список уже просмотренных фильмов."
   ]
  },
  {
   "cell_type": "code",
   "execution_count": 22,
   "id": "ef088ac7-ce1c-4ad7-9499-ed792d770a57",
   "metadata": {},
   "outputs": [],
   "source": [
    "seen_movies = data[data.userid == 2].movienm.values"
   ]
  },
  {
   "cell_type": "markdown",
   "id": "208d3821-829d-4adb-b9ef-c480acbc4162",
   "metadata": {},
   "source": [
    "Создадим список еще не просмотренных фильмов."
   ]
  },
  {
   "cell_type": "code",
   "execution_count": 23,
   "id": "bf079430-92c6-47c5-8344-fc8551d40cbb",
   "metadata": {},
   "outputs": [
    {
     "data": {
      "text/plain": [
       "68"
      ]
     },
     "execution_count": 23,
     "metadata": {},
     "output_type": "execute_result"
    }
   ],
   "source": [
    "popular_not_seen_movies = [x for x in top100_popular if x not in seen_movies]\n",
    "len(popular_not_seen_movies)"
   ]
  },
  {
   "cell_type": "markdown",
   "id": "56b5f8d6-1a31-42fc-ac69-3c1f72606d9b",
   "metadata": {},
   "source": [
    "Выведем 10 рекомендаций из еще не просмотренных фильмов"
   ]
  },
  {
   "cell_type": "code",
   "execution_count": 24,
   "id": "f1b5ca75-be1b-402b-a4be-46099f8f3587",
   "metadata": {},
   "outputs": [
    {
     "data": {
      "text/plain": [
       "['Star Wars: Episode IV - A New Hope (1977)',\n",
       " 'Men in Black (1997)',\n",
       " 'Sixth Sense, The (1999)',\n",
       " 'Princess Bride, The (1987)',\n",
       " 'Back to the Future (1985)',\n",
       " \"Schindler's List (1993)\",\n",
       " 'Fargo (1996)',\n",
       " 'L.A. Confidential (1997)',\n",
       " 'E.T. the Extra-Terrestrial (1982)',\n",
       " 'X-Men (2000)']"
      ]
     },
     "execution_count": 24,
     "metadata": {},
     "output_type": "execute_result"
    }
   ],
   "source": [
    "popular_recommendations = popular_not_seen_movies[:10]\n",
    "popular_recommendations"
   ]
  },
  {
   "cell_type": "markdown",
   "id": "da9011ef-5d47-4609-aa15-fca247f68bc7",
   "metadata": {},
   "source": [
    "### Рекомендация самых рейтинговых фильмов"
   ]
  },
  {
   "cell_type": "markdown",
   "id": "e359a3f5-1cc6-472f-b8dc-a08f9c7e4b97",
   "metadata": {},
   "source": [
    "Попрактикуемся, сделав рекомендации фильмов с лучшим рейтингом."
   ]
  },
  {
   "cell_type": "markdown",
   "id": "7a310d40-b90b-4dd2-89bf-c86a5ee4de31",
   "metadata": {},
   "source": [
    "Для начала нам нужно посчитать рейтинги для каждого фильма и отсортировать их по убыванию."
   ]
  },
  {
   "cell_type": "code",
   "execution_count": 25,
   "id": "7aeed462-b380-46d0-b817-fa81ed2744c3",
   "metadata": {},
   "outputs": [
    {
     "data": {
      "text/plain": [
       "movienm\n",
       "World of Apu, The (Apur Sansar) (1959)         5.0\n",
       "Saltmen of Tibet, The (1997)                   5.0\n",
       "Chushingura (1962)                             5.0\n",
       "Curdled (1996)                                 5.0\n",
       "Big Combo, The (1955)                          5.0\n",
       "                                              ... \n",
       "Two or Three Things I Know About Her (1966)    1.0\n",
       "Another Day in Paradise (1998)                 1.0\n",
       "Devil Rides Out, The (1968)                    1.0\n",
       "Frogs for Snakes (1998)                        1.0\n",
       "Turbo: A Power Rangers Movie (1997)            1.0\n",
       "Name: rating, Length: 3234, dtype: float64"
      ]
     },
     "execution_count": 25,
     "metadata": {},
     "output_type": "execute_result"
    }
   ],
   "source": [
    "data.groupby('movienm').rating.mean().sort_values(ascending=False)"
   ]
  },
  {
   "cell_type": "markdown",
   "id": "578271cc-1d54-45d1-8266-ba900d1f28eb",
   "metadata": {},
   "source": [
    "А теперь исключим фильмы с низким количеством просмотров. Для этого возьмем метод, который мы использовали для расчета популярности."
   ]
  },
  {
   "cell_type": "code",
   "execution_count": 26,
   "id": "7c711f3b-e870-4718-9033-0231e48943df",
   "metadata": {},
   "outputs": [
    {
     "data": {
      "text/plain": [
       "557"
      ]
     },
     "execution_count": 26,
     "metadata": {},
     "output_type": "execute_result"
    }
   ],
   "source": [
    "movies_popularity = data.movienm.value_counts()\n",
    "enough_views_movies = movies_popularity[movies_popularity > 50].index.values\n",
    "len(enough_views_movies)"
   ]
  },
  {
   "cell_type": "code",
   "execution_count": 27,
   "id": "b7f36d91-651b-457f-a64d-98f5e1ad0c9f",
   "metadata": {},
   "outputs": [
    {
     "data": {
      "text/plain": [
       "movienm\n",
       "Wrong Trousers, The (1993)          4.571429\n",
       "Schindler's List (1993)             4.566964\n",
       "Shawshank Redemption, The (1994)    4.555046\n",
       "Usual Suspects, The (1995)          4.536585\n",
       "Close Shave, A (1995)               4.492537\n",
       "                                      ...   \n",
       "Wild Wild West (1999)               2.534884\n",
       "Mission to Mars (2000)              2.454545\n",
       "Batman & Robin (1997)               2.433333\n",
       "Congo (1995)                        2.425926\n",
       "Judge Dredd (1995)                  2.166667\n",
       "Name: rating, Length: 557, dtype: float64"
      ]
     },
     "execution_count": 27,
     "metadata": {},
     "output_type": "execute_result"
    }
   ],
   "source": [
    "best_movies = data[data.movienm.isin(enough_views_movies)] \\\n",
    "                  .groupby('movienm').rating.mean().sort_values(ascending=False)\n",
    "best_movies"
   ]
  },
  {
   "cell_type": "markdown",
   "id": "04c3b8ee-26be-45f7-8396-42f45561f01e",
   "metadata": {},
   "source": [
    "Сохраним список из топ-100 самых лучших фильмов"
   ]
  },
  {
   "cell_type": "code",
   "execution_count": 28,
   "id": "9eaa1af7-ffe9-48a0-abfd-f20263e099f0",
   "metadata": {},
   "outputs": [
    {
     "data": {
      "text/plain": [
       "array(['Wrong Trousers, The (1993)', \"Schindler's List (1993)\",\n",
       "       'Shawshank Redemption, The (1994)', 'Usual Suspects, The (1995)',\n",
       "       'Close Shave, A (1995)', 'To Kill a Mockingbird (1962)',\n",
       "       'Godfather, The (1972)', 'Raiders of the Lost Ark (1981)',\n",
       "       'Star Wars: Episode IV - A New Hope (1977)',\n",
       "       'Maltese Falcon, The (1941)'], dtype=object)"
      ]
     },
     "execution_count": 28,
     "metadata": {},
     "output_type": "execute_result"
    }
   ],
   "source": [
    "top100_best = best_movies.index.values[:100]\n",
    "top100_best[:10]"
   ]
  },
  {
   "cell_type": "markdown",
   "id": "bffb5f8e-1ca7-49c1-964c-1352aa0a28a4",
   "metadata": {},
   "source": [
    "Создадим рекомендации из 10 фильмов для случайного пользователя. Однако, не будем забывать, что пользователь уже смотрел какие-то фильмы, поэтому их нужно исключить."
   ]
  },
  {
   "cell_type": "code",
   "execution_count": 29,
   "id": "5385c535-47c6-4a80-9eaa-577e98948b90",
   "metadata": {},
   "outputs": [
    {
     "data": {
      "text/html": [
       "<div>\n",
       "<style scoped>\n",
       "    .dataframe tbody tr th:only-of-type {\n",
       "        vertical-align: middle;\n",
       "    }\n",
       "\n",
       "    .dataframe tbody tr th {\n",
       "        vertical-align: top;\n",
       "    }\n",
       "\n",
       "    .dataframe thead th {\n",
       "        text-align: right;\n",
       "    }\n",
       "</style>\n",
       "<table border=\"1\" class=\"dataframe\">\n",
       "  <thead>\n",
       "    <tr style=\"text-align: right;\">\n",
       "      <th></th>\n",
       "      <th>userid</th>\n",
       "      <th>movieid</th>\n",
       "      <th>rating</th>\n",
       "      <th>movienm</th>\n",
       "      <th>genreid</th>\n",
       "    </tr>\n",
       "  </thead>\n",
       "  <tbody>\n",
       "    <tr>\n",
       "      <th>53</th>\n",
       "      <td>2</td>\n",
       "      <td>1357</td>\n",
       "      <td>5</td>\n",
       "      <td>Shine (1996)</td>\n",
       "      <td>Drama, Romance</td>\n",
       "    </tr>\n",
       "    <tr>\n",
       "      <th>54</th>\n",
       "      <td>2</td>\n",
       "      <td>3068</td>\n",
       "      <td>4</td>\n",
       "      <td>Verdict, The (1982)</td>\n",
       "      <td>Drama</td>\n",
       "    </tr>\n",
       "    <tr>\n",
       "      <th>55</th>\n",
       "      <td>2</td>\n",
       "      <td>1537</td>\n",
       "      <td>4</td>\n",
       "      <td>Shall We Dance? (Shall We Dansu?) (1996)</td>\n",
       "      <td>Comedy</td>\n",
       "    </tr>\n",
       "    <tr>\n",
       "      <th>56</th>\n",
       "      <td>2</td>\n",
       "      <td>647</td>\n",
       "      <td>3</td>\n",
       "      <td>Courage Under Fire (1996)</td>\n",
       "      <td>Drama, War</td>\n",
       "    </tr>\n",
       "    <tr>\n",
       "      <th>57</th>\n",
       "      <td>2</td>\n",
       "      <td>2194</td>\n",
       "      <td>4</td>\n",
       "      <td>Untouchables, The (1987)</td>\n",
       "      <td>Action, Crime, Drama</td>\n",
       "    </tr>\n",
       "    <tr>\n",
       "      <th>...</th>\n",
       "      <td>...</td>\n",
       "      <td>...</td>\n",
       "      <td>...</td>\n",
       "      <td>...</td>\n",
       "      <td>...</td>\n",
       "    </tr>\n",
       "    <tr>\n",
       "      <th>177</th>\n",
       "      <td>2</td>\n",
       "      <td>356</td>\n",
       "      <td>5</td>\n",
       "      <td>Forrest Gump (1994)</td>\n",
       "      <td>Comedy, Romance, War</td>\n",
       "    </tr>\n",
       "    <tr>\n",
       "      <th>178</th>\n",
       "      <td>2</td>\n",
       "      <td>1245</td>\n",
       "      <td>2</td>\n",
       "      <td>Miller's Crossing (1990)</td>\n",
       "      <td>Drama</td>\n",
       "    </tr>\n",
       "    <tr>\n",
       "      <th>179</th>\n",
       "      <td>2</td>\n",
       "      <td>1246</td>\n",
       "      <td>5</td>\n",
       "      <td>Dead Poets Society (1989)</td>\n",
       "      <td>Drama</td>\n",
       "    </tr>\n",
       "    <tr>\n",
       "      <th>180</th>\n",
       "      <td>2</td>\n",
       "      <td>3893</td>\n",
       "      <td>1</td>\n",
       "      <td>Nurse Betty (2000)</td>\n",
       "      <td>Comedy, Thriller</td>\n",
       "    </tr>\n",
       "    <tr>\n",
       "      <th>181</th>\n",
       "      <td>2</td>\n",
       "      <td>1247</td>\n",
       "      <td>5</td>\n",
       "      <td>Graduate, The (1967)</td>\n",
       "      <td>Drama, Romance</td>\n",
       "    </tr>\n",
       "  </tbody>\n",
       "</table>\n",
       "<p>129 rows × 5 columns</p>\n",
       "</div>"
      ],
      "text/plain": [
       "     userid  movieid  rating                                   movienm  \\\n",
       "53        2     1357       5                              Shine (1996)   \n",
       "54        2     3068       4                       Verdict, The (1982)   \n",
       "55        2     1537       4  Shall We Dance? (Shall We Dansu?) (1996)   \n",
       "56        2      647       3                 Courage Under Fire (1996)   \n",
       "57        2     2194       4                  Untouchables, The (1987)   \n",
       "..      ...      ...     ...                                       ...   \n",
       "177       2      356       5                       Forrest Gump (1994)   \n",
       "178       2     1245       2                  Miller's Crossing (1990)   \n",
       "179       2     1246       5                 Dead Poets Society (1989)   \n",
       "180       2     3893       1                        Nurse Betty (2000)   \n",
       "181       2     1247       5                      Graduate, The (1967)   \n",
       "\n",
       "                  genreid  \n",
       "53         Drama, Romance  \n",
       "54                  Drama  \n",
       "55                 Comedy  \n",
       "56             Drama, War  \n",
       "57   Action, Crime, Drama  \n",
       "..                    ...  \n",
       "177  Comedy, Romance, War  \n",
       "178                 Drama  \n",
       "179                 Drama  \n",
       "180      Comedy, Thriller  \n",
       "181        Drama, Romance  \n",
       "\n",
       "[129 rows x 5 columns]"
      ]
     },
     "execution_count": 29,
     "metadata": {},
     "output_type": "execute_result"
    }
   ],
   "source": [
    "data[data.userid == 2]"
   ]
  },
  {
   "cell_type": "markdown",
   "id": "e8b478f5-b4d3-4450-83b2-08384c43cfb1",
   "metadata": {},
   "source": [
    "Создадим список уже просмотренных фильмов."
   ]
  },
  {
   "cell_type": "code",
   "execution_count": 30,
   "id": "66264182-8b21-422d-b314-163824926b1a",
   "metadata": {},
   "outputs": [],
   "source": [
    "seen_movies = data[data.userid == 2].movienm.values"
   ]
  },
  {
   "cell_type": "markdown",
   "id": "d2cc37a1-e18c-48d9-bfb0-2652a784434b",
   "metadata": {},
   "source": [
    "Создадим список еще не просмотренных фильмов."
   ]
  },
  {
   "cell_type": "code",
   "execution_count": 31,
   "id": "c79fecc7-a038-4180-b784-9a32bec7ba6c",
   "metadata": {},
   "outputs": [
    {
     "data": {
      "text/plain": [
       "75"
      ]
     },
     "execution_count": 31,
     "metadata": {},
     "output_type": "execute_result"
    }
   ],
   "source": [
    "best_not_seen_movies = [x for x in top100_best if x not in seen_movies]\n",
    "len(best_not_seen_movies)"
   ]
  },
  {
   "cell_type": "markdown",
   "id": "bcc5e2b7-977d-43c7-a815-546404dc7b1a",
   "metadata": {},
   "source": [
    "Выведем 10 рекомендаций из еще не просмотренных фильмов"
   ]
  },
  {
   "cell_type": "code",
   "execution_count": 32,
   "id": "1fbd5129-51e6-49c5-8ae4-e5e2853237ac",
   "metadata": {},
   "outputs": [
    {
     "data": {
      "text/plain": [
       "['Wrong Trousers, The (1993)',\n",
       " \"Schindler's List (1993)\",\n",
       " 'Usual Suspects, The (1995)',\n",
       " 'Close Shave, A (1995)',\n",
       " 'Godfather, The (1972)',\n",
       " 'Star Wars: Episode IV - A New Hope (1977)',\n",
       " 'Maltese Falcon, The (1941)',\n",
       " 'Life Is Beautiful (La Vita è bella) (1997)',\n",
       " 'Rear Window (1954)',\n",
       " 'Dr. Strangelove or: How I Learned to Stop Worrying and Love the Bomb (1963)']"
      ]
     },
     "execution_count": 32,
     "metadata": {},
     "output_type": "execute_result"
    }
   ],
   "source": [
    "best_recommendations = best_not_seen_movies[:10]\n",
    "best_recommendations"
   ]
  },
  {
   "cell_type": "markdown",
   "id": "710b881c-6219-4d42-9ba9-a73c97da2007",
   "metadata": {},
   "source": [
    "### Сравним рекомендации"
   ]
  },
  {
   "cell_type": "code",
   "execution_count": 33,
   "id": "a483e061-1e76-489b-a648-d5b4c4f1293b",
   "metadata": {},
   "outputs": [
    {
     "data": {
      "text/plain": [
       "['Star Wars: Episode IV - A New Hope (1977)',\n",
       " 'Men in Black (1997)',\n",
       " 'Sixth Sense, The (1999)',\n",
       " 'Princess Bride, The (1987)',\n",
       " 'Back to the Future (1985)',\n",
       " \"Schindler's List (1993)\",\n",
       " 'Fargo (1996)',\n",
       " 'L.A. Confidential (1997)',\n",
       " 'E.T. the Extra-Terrestrial (1982)',\n",
       " 'X-Men (2000)']"
      ]
     },
     "execution_count": 33,
     "metadata": {},
     "output_type": "execute_result"
    }
   ],
   "source": [
    "popular_recommendations"
   ]
  },
  {
   "cell_type": "code",
   "execution_count": 34,
   "id": "2fdaca3a-8656-4141-a976-4b3b21002855",
   "metadata": {},
   "outputs": [
    {
     "data": {
      "text/plain": [
       "['Wrong Trousers, The (1993)',\n",
       " \"Schindler's List (1993)\",\n",
       " 'Usual Suspects, The (1995)',\n",
       " 'Close Shave, A (1995)',\n",
       " 'Godfather, The (1972)',\n",
       " 'Star Wars: Episode IV - A New Hope (1977)',\n",
       " 'Maltese Falcon, The (1941)',\n",
       " 'Life Is Beautiful (La Vita è bella) (1997)',\n",
       " 'Rear Window (1954)',\n",
       " 'Dr. Strangelove or: How I Learned to Stop Worrying and Love the Bomb (1963)']"
      ]
     },
     "execution_count": 34,
     "metadata": {},
     "output_type": "execute_result"
    }
   ],
   "source": [
    "best_recommendations"
   ]
  }
 ],
 "metadata": {
  "kernelspec": {
   "display_name": "Python 3 (ipykernel)",
   "language": "python",
   "name": "python3"
  },
  "language_info": {
   "codemirror_mode": {
    "name": "ipython",
    "version": 3
   },
   "file_extension": ".py",
   "mimetype": "text/x-python",
   "name": "python",
   "nbconvert_exporter": "python",
   "pygments_lexer": "ipython3",
   "version": "3.9.5"
  }
 },
 "nbformat": 4,
 "nbformat_minor": 5
}
